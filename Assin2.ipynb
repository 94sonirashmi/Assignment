{
  "nbformat": 4,
  "nbformat_minor": 0,
  "metadata": {
    "colab": {
      "provenance": []
    },
    "kernelspec": {
      "name": "python3",
      "display_name": "Python 3"
    },
    "language_info": {
      "name": "python"
    }
  },
  "cells": [
    {
      "cell_type": "markdown",
      "source": [
        "1. What are data structures, and why are they important?"
      ],
      "metadata": {
        "id": "NoHsA4X0jrWW"
      }
    },
    {
      "cell_type": "markdown",
      "source": [
        "Data structures are liek containers in python.It is a way of organising and storing data so that it can be accessed and manipulated in an efficient way."
      ],
      "metadata": {
        "id": "wkiMeu5wXFFS"
      }
    },
    {
      "cell_type": "markdown",
      "source": [
        "2.Explain the difference between mutable and immutable data types with examples?"
      ],
      "metadata": {
        "id": "NlVykos9XFMh"
      }
    },
    {
      "cell_type": "markdown",
      "source": [
        "Mutable data types are like-List,set,They can be changed and modified after creation at any time. Immutable datatypes are like tuples,string they can not be changed once created."
      ],
      "metadata": {
        "id": "4ALrLCEOXFQE"
      }
    },
    {
      "cell_type": "markdown",
      "source": [
        "3.What are the main differences between lists and tuples in Python?"
      ],
      "metadata": {
        "id": "AqCcJMWiXFU7"
      }
    },
    {
      "cell_type": "markdown",
      "source": [
        "List are mutable,they can be changed and modified,tuples are immutable."
      ],
      "metadata": {
        "id": "kbm4LPmrZNKa"
      }
    },
    {
      "cell_type": "markdown",
      "source": [
        "4.Describe how dictionaries store data?"
      ],
      "metadata": {
        "id": "BJcBrOESXFY2"
      }
    },
    {
      "cell_type": "markdown",
      "source": [
        "In Dictionaries data is stored in the Key-Value pair.To access the data(value) you have to access the key. like daily life dictionaries,to access a word you have to look for the key then its definition."
      ],
      "metadata": {
        "id": "kkvv-QcLXFcv"
      }
    },
    {
      "cell_type": "markdown",
      "source": [
        "5.Why might you use a set instead of a list in Python?"
      ],
      "metadata": {
        "id": "FNv6pJkSXFg6"
      }
    },
    {
      "cell_type": "markdown",
      "source": [
        "WHen u work on large data for example.you can use set instead of list,because it does not allow the duplicates,mutable,faster,can bring out the common data or uncoomon data in different sets of datas.Which is truly helpful most of the times for large datasets. Such features are not there in list except for mutation."
      ],
      "metadata": {
        "id": "H_pcpgNCXFk4"
      }
    },
    {
      "cell_type": "markdown",
      "source": [
        "6.What is a string in Python, and how is it different from a list?"
      ],
      "metadata": {
        "id": "0juk7b35XFo1"
      }
    },
    {
      "cell_type": "markdown",
      "source": [
        "String is written inside the double quotes,it is a sequence of characters.It is immutable. It is represented by \"str\",a=\"Rashmi\"\n",
        "While the lists are a ordered from of anytype of datatypes..[\"a\",5,(5+2j)]It can be anything."
      ],
      "metadata": {
        "id": "ISmaBEouXFsy"
      }
    },
    {
      "cell_type": "markdown",
      "source": [
        "7.How do tuples ensure data integrity in Python?"
      ],
      "metadata": {
        "id": "5VEoED1rXFwo"
      }
    },
    {
      "cell_type": "markdown",
      "source": [
        "Since the tuples are immutable hence this can not be modified or changed after it is created hence,it ensures the integrity of data in python.It doesnt allow anyone to change it.Which helps in not making any unexpected chnages in data by bugs."
      ],
      "metadata": {
        "id": "mo9cowB9XFz2"
      }
    },
    {
      "cell_type": "markdown",
      "source": [
        "8.What is a hash table, and how does it relate to dictionaries in Python?"
      ],
      "metadata": {
        "id": "0FMDPJOYXF3M"
      }
    },
    {
      "cell_type": "markdown",
      "source": [
        "A hash table is a data structure that stores key-value pairs and uses a hash function to compute an index (called a hash code) into an array where the value is stored.So instead of searching through the whole structure, it can go straight to where the value should be — super fast!Key must be hashable."
      ],
      "metadata": {
        "id": "3rT9q6pMXF7u"
      }
    },
    {
      "cell_type": "markdown",
      "source": [
        "9 Can lists contain different data types in Python?"
      ],
      "metadata": {
        "id": "GBmcSs7RXF_K"
      }
    },
    {
      "cell_type": "markdown",
      "source": [
        "Yes,it can stroe anytype of datatype all together."
      ],
      "metadata": {
        "id": "pcobuVeGXGDv"
      }
    },
    {
      "cell_type": "markdown",
      "source": [
        "10.Explain why strings are immutable in Python?"
      ],
      "metadata": {
        "id": "RzQtbYrHXGIL"
      }
    },
    {
      "cell_type": "markdown",
      "source": [
        "If strings could be changed, lots of subtle bugs could pop up.This is to maintain the integrity of code."
      ],
      "metadata": {
        "id": "RUc7gl_0XGLv"
      }
    },
    {
      "cell_type": "markdown",
      "source": [
        "11.What advantages do dictionaries offer over lists for certain tasks?"
      ],
      "metadata": {
        "id": "_RP1Gxi_iciK"
      }
    },
    {
      "cell_type": "markdown",
      "source": [
        "Dict uses key-value pair,hence it is alot fast for look up.Data is self describes about its information.No need to remember index number in dictionaries."
      ],
      "metadata": {
        "id": "e1EWrzDticlv"
      }
    },
    {
      "cell_type": "markdown",
      "source": [
        "12.Describe a scenario where using a tuple would be preferable over a list?"
      ],
      "metadata": {
        "id": "7HvrHlSKicqK"
      }
    },
    {
      "cell_type": "markdown",
      "source": [
        "For co-dinates it would be best.Like co-ordinates shouldn't be chnages by chance or accidently.\n",
        "examples-\n",
        "\n",
        "co_ordinates=(234.56,-627864,\"India\")"
      ],
      "metadata": {
        "id": "qvn9TvLbicu3"
      }
    },
    {
      "cell_type": "markdown",
      "source": [
        "13.How do sets handle duplicate values in Python?"
      ],
      "metadata": {
        "id": "2IqyUYXqicz-"
      }
    },
    {
      "cell_type": "markdown",
      "source": [
        "Sets do not allow duplicate values.They just ignore the duplicates without giving any error."
      ],
      "metadata": {
        "id": "0m3icAmzic3y"
      }
    },
    {
      "cell_type": "markdown",
      "source": [
        "14.How does the “in” keyword work differently for lists and dictionaries?"
      ],
      "metadata": {
        "id": "S1QskarLlqVt"
      }
    },
    {
      "cell_type": "markdown",
      "source": [
        "In dictionaries \"in\" operator looks for keys not for values. In lists \"in\" looks for item by item."
      ],
      "metadata": {
        "id": "tfeDAIfflqaK"
      }
    },
    {
      "cell_type": "markdown",
      "source": [
        "15.Can you modify the elements of a tuple? Explain why or why not?"
      ],
      "metadata": {
        "id": "RA5GKmJelqeB"
      }
    },
    {
      "cell_type": "markdown",
      "source": [
        "No we can not modify the elements of tuple,because it does not allow it to protect the data from changes from bugs or any accidental changes."
      ],
      "metadata": {
        "id": "xA2YutS0mO8c"
      }
    },
    {
      "cell_type": "markdown",
      "source": [
        "16.What is a nested dictionary, and give an example of its use case?"
      ],
      "metadata": {
        "id": "KkcHLDXklqi8"
      }
    },
    {
      "cell_type": "markdown",
      "source": [
        "Nested dictionary is having a dictionary inside a dictionary."
      ],
      "metadata": {
        "id": "M9YTlPFvlqoh"
      }
    },
    {
      "cell_type": "code",
      "source": [
        "d1={\n",
        "    \"candidate_1\":{\"name1\":\"Rashmi\",\"age\":30},\n",
        "    \"candidate_2\":{\"name2\":\"Krishna\",\"age\":\"ageless\"}\n",
        "    }\n"
      ],
      "metadata": {
        "id": "5lo6hdPnnDc9"
      },
      "execution_count": 13,
      "outputs": []
    },
    {
      "cell_type": "markdown",
      "source": [
        "17.Describe the time complexity of accessing elements in a dictionary?"
      ],
      "metadata": {
        "id": "aY3KDTNAlquK"
      }
    },
    {
      "cell_type": "markdown",
      "source": [
        "In dictionaries accessing an elements is supperfast,since it looks only for key."
      ],
      "metadata": {
        "id": "uI_XjpBjo_QL"
      }
    },
    {
      "cell_type": "markdown",
      "source": [
        "18.In what situations are lists preferred over dictionaries?"
      ],
      "metadata": {
        "id": "ylb0PR1io_MK"
      }
    },
    {
      "cell_type": "markdown",
      "source": [
        "When the data is variable like it changes very often,When you want to iterate data in sequence and store it in a sequence.When data is duolicate since,dic doesnt allow duplicate keys."
      ],
      "metadata": {
        "id": "fsMlKFYjqC4q"
      }
    },
    {
      "cell_type": "markdown",
      "source": [
        "19Why are dictionaries considered unordered, and how does that affect data retrieval?"
      ],
      "metadata": {
        "id": "-DKhOCiNo_GC"
      }
    },
    {
      "cell_type": "markdown",
      "source": [
        "Because in dictionries data does not have any sequence or index number.It does not gaurantee to return the data in same sequence it was stored.It is does not retreive data by order or keys."
      ],
      "metadata": {
        "id": "WfGcFXvwo-_3"
      }
    },
    {
      "cell_type": "markdown",
      "source": [
        "20.Explain the difference between a list and a dictionary in terms of data retrieval?"
      ],
      "metadata": {
        "id": "fDndmpRRo-8o"
      }
    },
    {
      "cell_type": "markdown",
      "source": [
        "List reteives data in order or index wise unlike dictionaries.Dictionaries reteives data using keys not index number."
      ],
      "metadata": {
        "id": "8z-KDpJmo-4J"
      }
    },
    {
      "cell_type": "markdown",
      "source": [
        "1. Write a code to create a string with your name and print it?"
      ],
      "metadata": {
        "id": "uDG3uiklXGRd"
      }
    },
    {
      "cell_type": "code",
      "source": [
        "name=\"Kavya\""
      ],
      "metadata": {
        "id": "YcdQe7wNjv4U"
      },
      "execution_count": null,
      "outputs": []
    },
    {
      "cell_type": "code",
      "source": [
        "print(name)"
      ],
      "metadata": {
        "colab": {
          "base_uri": "https://localhost:8080/"
        },
        "id": "KpMEfITWjzjJ",
        "outputId": "17f5e0e2-210c-4a3a-afbf-259fdfda0c4e"
      },
      "execution_count": null,
      "outputs": [
        {
          "output_type": "stream",
          "name": "stdout",
          "text": [
            "Kavya\n"
          ]
        }
      ]
    },
    {
      "cell_type": "markdown",
      "source": [
        "2. Write a code to find the length of the string \"Hello World\"?"
      ],
      "metadata": {
        "id": "RMK3Nx924-q3"
      }
    },
    {
      "cell_type": "code",
      "source": [
        "n=\"Hello World\""
      ],
      "metadata": {
        "id": "Gma48a2S5G0o"
      },
      "execution_count": null,
      "outputs": []
    },
    {
      "cell_type": "code",
      "source": [
        "print(len(n))"
      ],
      "metadata": {
        "colab": {
          "base_uri": "https://localhost:8080/"
        },
        "id": "5_-2olrf5LU8",
        "outputId": "b5068c2e-5086-44f2-a2c2-e4f7fc5fc7c0"
      },
      "execution_count": null,
      "outputs": [
        {
          "output_type": "stream",
          "name": "stdout",
          "text": [
            "11\n"
          ]
        }
      ]
    },
    {
      "cell_type": "markdown",
      "source": [
        "3.\n",
        "Write a code to slice the first 3 characters from the string \"Python Programming\"?"
      ],
      "metadata": {
        "id": "OpSDDqWHjheV"
      }
    },
    {
      "cell_type": "code",
      "source": [
        "n=\"RamChandra\""
      ],
      "metadata": {
        "id": "JmpL08U0j-gD"
      },
      "execution_count": null,
      "outputs": []
    },
    {
      "cell_type": "code",
      "source": [
        "print(n[:3])"
      ],
      "metadata": {
        "colab": {
          "base_uri": "https://localhost:8080/"
        },
        "id": "jZrOytt-j-b0",
        "outputId": "59591931-393e-4219-fcbc-6c4507e4b34b"
      },
      "execution_count": null,
      "outputs": [
        {
          "output_type": "stream",
          "name": "stdout",
          "text": [
            "Ram\n"
          ]
        }
      ]
    },
    {
      "cell_type": "markdown",
      "source": [
        "4.Write a code to convert the string \"hello\" to uppercase?"
      ],
      "metadata": {
        "id": "M2pxS-ESkaRF"
      }
    },
    {
      "cell_type": "code",
      "source": [
        "i=\"hello\""
      ],
      "metadata": {
        "id": "MGsUAaSakZ69"
      },
      "execution_count": null,
      "outputs": []
    },
    {
      "cell_type": "code",
      "source": [
        "print(i.upper())"
      ],
      "metadata": {
        "colab": {
          "base_uri": "https://localhost:8080/"
        },
        "id": "7ZvhUa5fj-HW",
        "outputId": "7270c443-6984-4da2-ecc9-662156f5c95a"
      },
      "execution_count": null,
      "outputs": [
        {
          "output_type": "stream",
          "name": "stdout",
          "text": [
            "HELLO\n"
          ]
        }
      ]
    },
    {
      "cell_type": "markdown",
      "source": [
        "5. Write a code to replace the word \"apple\" with \"orange\" in the string \"I like apple\"?"
      ],
      "metadata": {
        "id": "-6_hEXY5jhZy"
      }
    },
    {
      "cell_type": "code",
      "source": [
        "statement=\"I like apple\""
      ],
      "metadata": {
        "id": "IEQ3XIGRlPmT"
      },
      "execution_count": null,
      "outputs": []
    },
    {
      "cell_type": "code",
      "source": [
        "print(statement.replace(\"apple\",\"orange\"))"
      ],
      "metadata": {
        "colab": {
          "base_uri": "https://localhost:8080/"
        },
        "id": "aqu7HR0gla-O",
        "outputId": "bea855b6-3049-4f92-849b-a696def43549"
      },
      "execution_count": null,
      "outputs": [
        {
          "output_type": "stream",
          "name": "stdout",
          "text": [
            "I like orange\n"
          ]
        }
      ]
    },
    {
      "cell_type": "markdown",
      "source": [
        "6. Write a code to create a list with numbers 1 to 5 and print it?"
      ],
      "metadata": {
        "id": "pSwtj3x25by1"
      }
    },
    {
      "cell_type": "code",
      "source": [
        "k=[1,2,3,4,5]"
      ],
      "metadata": {
        "id": "oxGqE1io5NWA"
      },
      "execution_count": null,
      "outputs": []
    },
    {
      "cell_type": "code",
      "source": [
        "print(k)"
      ],
      "metadata": {
        "colab": {
          "base_uri": "https://localhost:8080/"
        },
        "id": "-1i1087z5n8w",
        "outputId": "624945f5-18c4-487a-8348-d319ebbe659f"
      },
      "execution_count": null,
      "outputs": [
        {
          "output_type": "stream",
          "name": "stdout",
          "text": [
            "[1, 2, 3, 4, 5]\n"
          ]
        }
      ]
    },
    {
      "cell_type": "markdown",
      "source": [
        "7.Write a code to append the number 10 to the list [1, 2, 3, 4]?"
      ],
      "metadata": {
        "id": "rUwPt-_r5sVT"
      }
    },
    {
      "cell_type": "code",
      "source": [
        "L1=[1,2,3,4]"
      ],
      "metadata": {
        "id": "TcAgcDVQ5pDM"
      },
      "execution_count": null,
      "outputs": []
    },
    {
      "cell_type": "code",
      "source": [
        "L1.append(10)"
      ],
      "metadata": {
        "id": "LXziQAmz58NU"
      },
      "execution_count": null,
      "outputs": []
    },
    {
      "cell_type": "code",
      "source": [
        "print(L1)"
      ],
      "metadata": {
        "colab": {
          "base_uri": "https://localhost:8080/"
        },
        "id": "tfjnVwUb6KJr",
        "outputId": "453cea9e-cd5e-4352-a26c-23c687d15de4"
      },
      "execution_count": null,
      "outputs": [
        {
          "output_type": "stream",
          "name": "stdout",
          "text": [
            "[1, 2, 3, 4, 10]\n"
          ]
        }
      ]
    },
    {
      "cell_type": "markdown",
      "source": [
        "8.Write a code to remove the number 3 from the list [1, 2, 3, 4, 5]?"
      ],
      "metadata": {
        "id": "U3_ySSy15rC5"
      }
    },
    {
      "cell_type": "code",
      "source": [
        "m1=[1,2,3,4,5]"
      ],
      "metadata": {
        "id": "JXooup8S6atL"
      },
      "execution_count": null,
      "outputs": []
    },
    {
      "cell_type": "code",
      "source": [
        "m1.remove(5) #5 can also be removed by using m1.pop(4)"
      ],
      "metadata": {
        "id": "lWwiNCUu6dsX"
      },
      "execution_count": null,
      "outputs": []
    },
    {
      "cell_type": "code",
      "source": [
        "print(m1)"
      ],
      "metadata": {
        "colab": {
          "base_uri": "https://localhost:8080/"
        },
        "id": "ATvg8krD6lNd",
        "outputId": "a18623eb-4356-42c0-ce65-9de3f0ea4be0"
      },
      "execution_count": null,
      "outputs": [
        {
          "output_type": "stream",
          "name": "stdout",
          "text": [
            "[1, 2, 3, 4]\n"
          ]
        }
      ]
    },
    {
      "cell_type": "markdown",
      "source": [
        "9. Write a code to access the second element in the list ['a', 'b', 'c', 'd']?"
      ],
      "metadata": {
        "id": "pG8y35Ak605H"
      }
    },
    {
      "cell_type": "code",
      "source": [
        "t=['a','b','c','d']"
      ],
      "metadata": {
        "id": "jNqNGL1H6w6l"
      },
      "execution_count": null,
      "outputs": []
    },
    {
      "cell_type": "code",
      "source": [
        "print(t[1])"
      ],
      "metadata": {
        "colab": {
          "base_uri": "https://localhost:8080/"
        },
        "id": "m238Emlz7FXp",
        "outputId": "5eda2217-d837-4eaf-ea75-68e350812667"
      },
      "execution_count": null,
      "outputs": [
        {
          "output_type": "stream",
          "name": "stdout",
          "text": [
            "b\n"
          ]
        }
      ]
    },
    {
      "cell_type": "code",
      "source": [],
      "metadata": {
        "id": "zOyupmDJ7P8C"
      },
      "execution_count": null,
      "outputs": []
    },
    {
      "cell_type": "markdown",
      "source": [
        "10. Write a code to reverse the list [10, 20, 30, 40, 50]?"
      ],
      "metadata": {
        "id": "GBqQpUZF7RXv"
      }
    },
    {
      "cell_type": "code",
      "source": [
        "y=[10,20,30,40,50]"
      ],
      "metadata": {
        "id": "zJabFRtX7W6j"
      },
      "execution_count": null,
      "outputs": []
    },
    {
      "cell_type": "code",
      "source": [
        "y.reverse()"
      ],
      "metadata": {
        "id": "6oQw9L8v7aHL"
      },
      "execution_count": null,
      "outputs": []
    },
    {
      "cell_type": "code",
      "source": [
        "print(y)"
      ],
      "metadata": {
        "colab": {
          "base_uri": "https://localhost:8080/"
        },
        "id": "xnSgFEvN7jkW",
        "outputId": "51b737b6-c1de-4afc-a1b7-2047ed866128"
      },
      "execution_count": null,
      "outputs": [
        {
          "output_type": "stream",
          "name": "stdout",
          "text": [
            "[50, 40, 30, 20, 10]\n"
          ]
        }
      ]
    },
    {
      "cell_type": "markdown",
      "source": [
        "11. Write a code to create a tuple with the elements 100, 200, 300 and print it?"
      ],
      "metadata": {
        "id": "_tgDBSyE9FVH"
      }
    },
    {
      "cell_type": "code",
      "source": [
        "t=(100,200,300)"
      ],
      "metadata": {
        "id": "PZhn3nzn9PH7"
      },
      "execution_count": null,
      "outputs": []
    },
    {
      "cell_type": "code",
      "source": [
        "print(t)"
      ],
      "metadata": {
        "colab": {
          "base_uri": "https://localhost:8080/"
        },
        "id": "6-nowF-D9TSO",
        "outputId": "39626e46-8125-4f53-afbe-eab798db5c36"
      },
      "execution_count": null,
      "outputs": [
        {
          "output_type": "stream",
          "name": "stdout",
          "text": [
            "(100, 200, 300)\n"
          ]
        }
      ]
    },
    {
      "cell_type": "markdown",
      "source": [
        "12. Write a code to access the second-to-last element of the tuple ('red', 'green', 'blue', 'yellow')?"
      ],
      "metadata": {
        "id": "K_Z3Hek79baq"
      }
    },
    {
      "cell_type": "code",
      "source": [
        "j=('red','green','blue','yellow')"
      ],
      "metadata": {
        "id": "rIW6yHja9UO8"
      },
      "execution_count": null,
      "outputs": []
    },
    {
      "cell_type": "code",
      "source": [
        "print(j[-2])"
      ],
      "metadata": {
        "colab": {
          "base_uri": "https://localhost:8080/"
        },
        "id": "1xS5Pgmp9lMv",
        "outputId": "a43a9448-048d-4ca4-9a7b-210a6ae541c4"
      },
      "execution_count": null,
      "outputs": [
        {
          "output_type": "stream",
          "name": "stdout",
          "text": [
            "blue\n"
          ]
        }
      ]
    },
    {
      "cell_type": "markdown",
      "source": [
        "13. Write a code to find the minimum number in the tuple (10, 20, 5, 15)?"
      ],
      "metadata": {
        "id": "2nsHOjk69zGE"
      }
    },
    {
      "cell_type": "code",
      "source": [
        "k=(10,20,5,15)"
      ],
      "metadata": {
        "id": "QjCKXnrk91Vw"
      },
      "execution_count": null,
      "outputs": []
    },
    {
      "cell_type": "code",
      "source": [
        "print(min(k))"
      ],
      "metadata": {
        "colab": {
          "base_uri": "https://localhost:8080/"
        },
        "id": "_pAlmNI49rog",
        "outputId": "324a3d7f-0fc6-4420-80a3-99639c043bb6"
      },
      "execution_count": null,
      "outputs": [
        {
          "output_type": "stream",
          "name": "stdout",
          "text": [
            "5\n"
          ]
        }
      ]
    },
    {
      "cell_type": "markdown",
      "source": [
        "14. Write a code to find the index of the element \"cat\" in the tuple ('dog', 'cat', 'rabbit')?"
      ],
      "metadata": {
        "id": "qV2XC7JY-lrD"
      }
    },
    {
      "cell_type": "code",
      "source": [
        "r=('dog','cat','rabbit')"
      ],
      "metadata": {
        "id": "ABjWV7LF97wm"
      },
      "execution_count": null,
      "outputs": []
    },
    {
      "cell_type": "code",
      "source": [
        "print(r.index(\"cat\"))"
      ],
      "metadata": {
        "colab": {
          "base_uri": "https://localhost:8080/"
        },
        "id": "jQoFXEfi-ufv",
        "outputId": "6d7d0abe-c983-4146-d37b-601bcf22d804"
      },
      "execution_count": null,
      "outputs": [
        {
          "output_type": "stream",
          "name": "stdout",
          "text": [
            "1\n"
          ]
        }
      ]
    },
    {
      "cell_type": "markdown",
      "source": [
        "15. Write a code to create a tuple containing three different fruits and check if \"kiwi\" is in it?"
      ],
      "metadata": {
        "id": "Rpjddxpf_kha"
      }
    },
    {
      "cell_type": "code",
      "source": [
        "fruits=(\"blueberry\",\"banana\",\"pineapple\")"
      ],
      "metadata": {
        "id": "-e1MT9t-_Hju"
      },
      "execution_count": null,
      "outputs": []
    },
    {
      "cell_type": "code",
      "source": [
        "print(\"kiwi\"in fruits)"
      ],
      "metadata": {
        "colab": {
          "base_uri": "https://localhost:8080/"
        },
        "id": "2hFww7lUAgbE",
        "outputId": "79a12464-df65-4a1b-a380-e038178cc3c6"
      },
      "execution_count": null,
      "outputs": [
        {
          "output_type": "stream",
          "name": "stdout",
          "text": [
            "False\n"
          ]
        }
      ]
    },
    {
      "cell_type": "markdown",
      "source": [
        "16. Write a code to create a set with the elements 'a', 'b', 'c' and print it?"
      ],
      "metadata": {
        "id": "OzxYYicVBnpx"
      }
    },
    {
      "cell_type": "code",
      "source": [
        "s={'a','b','c'}"
      ],
      "metadata": {
        "id": "JmTb6fePBfwT"
      },
      "execution_count": null,
      "outputs": []
    },
    {
      "cell_type": "code",
      "source": [
        "print(s)"
      ],
      "metadata": {
        "colab": {
          "base_uri": "https://localhost:8080/"
        },
        "id": "JqUlwizPBvoI",
        "outputId": "f2a82c78-1568-4aba-ea69-5c8ea92cd8aa"
      },
      "execution_count": null,
      "outputs": [
        {
          "output_type": "stream",
          "name": "stdout",
          "text": [
            "{'a', 'b', 'c'}\n"
          ]
        }
      ]
    },
    {
      "cell_type": "markdown",
      "source": [
        "17. Write a code to clear all elements from the set {1, 2, 3, 4, 5}?"
      ],
      "metadata": {
        "id": "7_2aAtdWB13t"
      }
    },
    {
      "cell_type": "code",
      "source": [
        "f={1,2,3,4,5}"
      ],
      "metadata": {
        "id": "g-QFr0Z7BxAy"
      },
      "execution_count": null,
      "outputs": []
    },
    {
      "cell_type": "code",
      "source": [
        "f.clear()"
      ],
      "metadata": {
        "id": "ICU5nuoDrIMb"
      },
      "execution_count": null,
      "outputs": []
    },
    {
      "cell_type": "code",
      "source": [
        "print(f)"
      ],
      "metadata": {
        "colab": {
          "base_uri": "https://localhost:8080/"
        },
        "id": "xsk61Vy-rJ77",
        "outputId": "5f73f4de-f9ac-49a5-e209-c0adfde1dd8c"
      },
      "execution_count": null,
      "outputs": [
        {
          "output_type": "stream",
          "name": "stdout",
          "text": [
            "set()\n"
          ]
        }
      ]
    },
    {
      "cell_type": "markdown",
      "source": [
        "18. Write a code to remove the element 4 from the set {1, 2, 3, 4}?"
      ],
      "metadata": {
        "id": "r2vO0wrNraFK"
      }
    },
    {
      "cell_type": "code",
      "source": [
        "g={1,2,3,4}"
      ],
      "metadata": {
        "id": "QGeOzSKvrd1p"
      },
      "execution_count": null,
      "outputs": []
    },
    {
      "cell_type": "code",
      "source": [
        "g.discard(4)"
      ],
      "metadata": {
        "id": "x0BQotcbsJEp"
      },
      "execution_count": null,
      "outputs": []
    },
    {
      "cell_type": "code",
      "source": [
        "print(g)"
      ],
      "metadata": {
        "colab": {
          "base_uri": "https://localhost:8080/"
        },
        "id": "aqjr9e5CsWMR",
        "outputId": "f38e34d1-95c7-4bd2-cac3-ec65f2ff8986"
      },
      "execution_count": null,
      "outputs": [
        {
          "output_type": "stream",
          "name": "stdout",
          "text": [
            "{1, 2, 3}\n"
          ]
        }
      ]
    },
    {
      "cell_type": "markdown",
      "source": [
        "19. Write a code to find the union of two sets {1, 2, 3} and {3, 4, 5}?"
      ],
      "metadata": {
        "id": "HLKLyaxnsiSD"
      }
    },
    {
      "cell_type": "code",
      "source": [
        "a={1,2,3}; b={3,4,5}"
      ],
      "metadata": {
        "id": "jolgbzt6sd-V"
      },
      "execution_count": null,
      "outputs": []
    },
    {
      "cell_type": "code",
      "source": [
        "print(a|b)"
      ],
      "metadata": {
        "colab": {
          "base_uri": "https://localhost:8080/"
        },
        "id": "q4fgRTpewEKc",
        "outputId": "17101aeb-89b1-424c-83a9-29f40896031d"
      },
      "execution_count": null,
      "outputs": [
        {
          "output_type": "stream",
          "name": "stdout",
          "text": [
            "{1, 2, 3, 4, 5}\n"
          ]
        }
      ]
    },
    {
      "cell_type": "markdown",
      "source": [
        "20. Write a code to find the intersection of two sets {1, 2, 3} and {2, 3, 4}?"
      ],
      "metadata": {
        "id": "H6n7gJxywKOH"
      }
    },
    {
      "cell_type": "code",
      "source": [
        "a={1,2,3};b={2,3,4}"
      ],
      "metadata": {
        "id": "-HMuY1nswF2P"
      },
      "execution_count": null,
      "outputs": []
    },
    {
      "cell_type": "code",
      "source": [
        "print(a&b)"
      ],
      "metadata": {
        "colab": {
          "base_uri": "https://localhost:8080/"
        },
        "id": "YbdxgmjqwS9s",
        "outputId": "663c026b-bd7a-45cb-dc22-ca4b6e6c2446"
      },
      "execution_count": null,
      "outputs": [
        {
          "output_type": "stream",
          "name": "stdout",
          "text": [
            "{2, 3}\n"
          ]
        }
      ]
    },
    {
      "cell_type": "markdown",
      "source": [
        "21.Write a code to create a dictionary with the keys \"name\", \"age\", and \"city\", and print it.?"
      ],
      "metadata": {
        "id": "uKn5kA1Hwgel"
      }
    },
    {
      "cell_type": "code",
      "source": [
        "d1={\"name\":\"Rashmi\",\"age\":24,\"city\":\"UK\"}"
      ],
      "metadata": {
        "id": "6SHL9ER5wadN"
      },
      "execution_count": null,
      "outputs": []
    },
    {
      "cell_type": "code",
      "source": [
        "print(d1)"
      ],
      "metadata": {
        "id": "_paiK-UpwvBj",
        "colab": {
          "base_uri": "https://localhost:8080/"
        },
        "outputId": "3c6e68e1-857a-466b-9f0e-0431cd639e8f"
      },
      "execution_count": null,
      "outputs": [
        {
          "output_type": "stream",
          "name": "stdout",
          "text": [
            "{'name': 'Rashmi', 'age': 24, 'city': 'UK'}\n"
          ]
        }
      ]
    },
    {
      "cell_type": "markdown",
      "source": [
        "22. Write a code to add a new key-value pair \"country\": \"USA\" to the dictionary {'name': 'John', 'age': 25}?"
      ],
      "metadata": {
        "id": "x37ATlSFV83v"
      }
    },
    {
      "cell_type": "code",
      "source": [
        "a={\"name\":\"John\",\"age\":25}"
      ],
      "metadata": {
        "id": "dI9kyGwqVcSi"
      },
      "execution_count": null,
      "outputs": []
    },
    {
      "cell_type": "code",
      "source": [
        "a[\"country\"]=\"USA\""
      ],
      "metadata": {
        "id": "AGPJA3bQWLei"
      },
      "execution_count": null,
      "outputs": []
    },
    {
      "cell_type": "code",
      "source": [
        "print(a)"
      ],
      "metadata": {
        "colab": {
          "base_uri": "https://localhost:8080/"
        },
        "id": "csGeB5JEWQgb",
        "outputId": "10365282-1948-4f0d-d865-2a5de9ca3ae5"
      },
      "execution_count": null,
      "outputs": [
        {
          "output_type": "stream",
          "name": "stdout",
          "text": [
            "{'name': 'John', 'age': 25, 'country': 'USA'}\n"
          ]
        }
      ]
    },
    {
      "cell_type": "markdown",
      "source": [
        "23. Write a code to access the value associated with the key \"name\" in the dictionary {'name': 'Alice', 'age': 30}?"
      ],
      "metadata": {
        "id": "ADZwGonlXli4"
      }
    },
    {
      "cell_type": "code",
      "source": [
        "f={\"name\":\"Alice\",\"age\":30}"
      ],
      "metadata": {
        "id": "nK-pSZaMXOb2"
      },
      "execution_count": null,
      "outputs": []
    },
    {
      "cell_type": "code",
      "source": [
        "print(f.get(\"name\"))"
      ],
      "metadata": {
        "colab": {
          "base_uri": "https://localhost:8080/"
        },
        "id": "GC8uOXlBX95C",
        "outputId": "f9652ea7-c0c5-4a77-b7d4-114d3f76cc55"
      },
      "execution_count": null,
      "outputs": [
        {
          "output_type": "stream",
          "name": "stdout",
          "text": [
            "Alice\n"
          ]
        }
      ]
    },
    {
      "cell_type": "markdown",
      "source": [
        "24. Write a code to remove the key \"age\" from the dictionary {'name': 'Bob', 'age': 22, 'city': 'New York'}?"
      ],
      "metadata": {
        "id": "hsRDSr9UYQPG"
      }
    },
    {
      "cell_type": "code",
      "source": [
        "g={\"name\":\"Bob\",\"age\":22,\"city\":\"NewYork\"}"
      ],
      "metadata": {
        "id": "IVe0n82oYJpR"
      },
      "execution_count": null,
      "outputs": []
    },
    {
      "cell_type": "code",
      "source": [
        "g.pop(\"age\")"
      ],
      "metadata": {
        "colab": {
          "base_uri": "https://localhost:8080/"
        },
        "id": "R9UK3i3SYibO",
        "outputId": "fa60d116-61c0-446b-cb43-abbd3845df2c"
      },
      "execution_count": null,
      "outputs": [
        {
          "output_type": "execute_result",
          "data": {
            "text/plain": [
              "22"
            ]
          },
          "metadata": {},
          "execution_count": 22
        }
      ]
    },
    {
      "cell_type": "code",
      "source": [
        "print(g)"
      ],
      "metadata": {
        "colab": {
          "base_uri": "https://localhost:8080/"
        },
        "id": "lT3ctYGIYl__",
        "outputId": "42299945-5403-4ae8-a252-375f10387e9a"
      },
      "execution_count": null,
      "outputs": [
        {
          "output_type": "stream",
          "name": "stdout",
          "text": [
            "{'name': 'Bob', 'city': 'NewYork'}\n"
          ]
        }
      ]
    },
    {
      "cell_type": "markdown",
      "source": [
        "25. Write a code to check if the key \"city\" exists in the dictionary {'name': 'Alice', 'city': 'Paris'}?"
      ],
      "metadata": {
        "id": "BOQxjb3lZC6h"
      }
    },
    {
      "cell_type": "code",
      "source": [
        "h={\"name\":\"Alice\",\"city\":\"Paris\"}"
      ],
      "metadata": {
        "id": "A7On3zk_Y76b"
      },
      "execution_count": null,
      "outputs": []
    },
    {
      "cell_type": "code",
      "source": [
        "print(\"city\"in h)"
      ],
      "metadata": {
        "colab": {
          "base_uri": "https://localhost:8080/"
        },
        "id": "LCgNc09RZosB",
        "outputId": "e8d08a95-bf3c-4064-a52b-e0851dc71110"
      },
      "execution_count": null,
      "outputs": [
        {
          "output_type": "stream",
          "name": "stdout",
          "text": [
            "True\n"
          ]
        }
      ]
    },
    {
      "cell_type": "markdown",
      "source": [
        "26. Write a code to create a list, a tuple, and a dictionary, and print them all?"
      ],
      "metadata": {
        "id": "MWphdw9Oax4-"
      }
    },
    {
      "cell_type": "code",
      "source": [
        "l1=[1,2,3,4]"
      ],
      "metadata": {
        "id": "d_V35tq-ZuCt"
      },
      "execution_count": null,
      "outputs": []
    },
    {
      "cell_type": "code",
      "source": [
        "t1=(1,2,3,4)"
      ],
      "metadata": {
        "id": "cnDBFHNEa6YJ"
      },
      "execution_count": null,
      "outputs": []
    },
    {
      "cell_type": "code",
      "source": [
        "d1={1:\"d\",2:\"c\",3:\"d\",4:\"e\"}"
      ],
      "metadata": {
        "id": "jhANuAZQa9wQ"
      },
      "execution_count": null,
      "outputs": []
    },
    {
      "cell_type": "code",
      "source": [
        "print(l1,t1,d1)"
      ],
      "metadata": {
        "colab": {
          "base_uri": "https://localhost:8080/"
        },
        "id": "OAsvDuribIJi",
        "outputId": "e649a68d-714c-435e-f799-ade256b73e40"
      },
      "execution_count": null,
      "outputs": [
        {
          "output_type": "stream",
          "name": "stdout",
          "text": [
            "[1, 2, 3, 4] (1, 2, 3, 4) {1: 'd', 2: 'c', 3: 'd', 4: 'e'}\n"
          ]
        }
      ]
    },
    {
      "cell_type": "markdown",
      "source": [
        "27. Write a code to create a list of 5 random numbers between 1 and 100, sort it in ascending order, and print the\n",
        "result.(replaced)?"
      ],
      "metadata": {
        "id": "rNCF_xjSbepu"
      }
    },
    {
      "cell_type": "code",
      "source": [
        "g=[3,56,99]"
      ],
      "metadata": {
        "id": "ysaujGpTbKaU"
      },
      "execution_count": null,
      "outputs": []
    },
    {
      "cell_type": "code",
      "source": [
        "g.sort()"
      ],
      "metadata": {
        "id": "OjgjOJjmbtlQ"
      },
      "execution_count": null,
      "outputs": []
    },
    {
      "cell_type": "code",
      "source": [
        "print(g)"
      ],
      "metadata": {
        "colab": {
          "base_uri": "https://localhost:8080/"
        },
        "id": "NoxhNhtFbwIM",
        "outputId": "fc97a119-7c7b-4daf-f7f8-877b5dc6b4a1"
      },
      "execution_count": null,
      "outputs": [
        {
          "output_type": "stream",
          "name": "stdout",
          "text": [
            "[3, 56, 99]\n"
          ]
        }
      ]
    },
    {
      "cell_type": "markdown",
      "source": [
        "28. Write a code to create a list with strings and print the element at the third index?"
      ],
      "metadata": {
        "id": "M0x475uPb70J"
      }
    },
    {
      "cell_type": "code",
      "source": [
        "n=[\"hi\",\"no\",\"bye\",\"busy\"]"
      ],
      "metadata": {
        "id": "v-GFzETvb2gO"
      },
      "execution_count": null,
      "outputs": []
    },
    {
      "cell_type": "code",
      "source": [
        "print(n[3])"
      ],
      "metadata": {
        "colab": {
          "base_uri": "https://localhost:8080/"
        },
        "id": "mbKduObDgxUi",
        "outputId": "01fff9a1-fefa-4b11-d0f1-e2eab37acca4"
      },
      "execution_count": null,
      "outputs": [
        {
          "output_type": "stream",
          "name": "stdout",
          "text": [
            "busy\n"
          ]
        }
      ]
    },
    {
      "cell_type": "markdown",
      "source": [
        "29. Write a code to combine two dictionaries into one and print the result?"
      ],
      "metadata": {
        "id": "s-YG2aKahCnD"
      }
    },
    {
      "cell_type": "code",
      "source": [
        "d1={1:\"hi\",2:\"no\",3:\"kya\"}"
      ],
      "metadata": {
        "id": "_q1ixOuag860"
      },
      "execution_count": null,
      "outputs": []
    },
    {
      "cell_type": "code",
      "source": [
        "d2={\"India\":\"Delhi\",\"Italy\":\"Rome\",\"Spain\":\"Madrid\"}"
      ],
      "metadata": {
        "id": "KGJJkuKlhIr7"
      },
      "execution_count": null,
      "outputs": []
    },
    {
      "cell_type": "code",
      "source": [
        "d1.update(d2)"
      ],
      "metadata": {
        "id": "iF-9GSymhg92"
      },
      "execution_count": null,
      "outputs": []
    },
    {
      "cell_type": "code",
      "source": [
        "print(d1)"
      ],
      "metadata": {
        "colab": {
          "base_uri": "https://localhost:8080/"
        },
        "id": "dLhKoK_ShiX_",
        "outputId": "2b1e046e-156d-4ffc-c91f-1632176a8bdb"
      },
      "execution_count": null,
      "outputs": [
        {
          "output_type": "stream",
          "name": "stdout",
          "text": [
            "{1: 'hi', 2: 'no', 3: 'kya', 'India': 'Delhi', 'Italy': 'Rome', 'Spain': 'Madrid'}\n"
          ]
        }
      ]
    },
    {
      "cell_type": "markdown",
      "source": [
        "30. Write a code to convert a list of strings into a set?"
      ],
      "metadata": {
        "id": "RJilm_V-h5EF"
      }
    },
    {
      "cell_type": "code",
      "source": [
        "l3=[\"hi\",\"what\",\"I said_hi\",\"oh_hi\"]"
      ],
      "metadata": {
        "id": "kXDbbshlh7Z1"
      },
      "execution_count": null,
      "outputs": []
    },
    {
      "cell_type": "code",
      "source": [
        "print(set(l3))"
      ],
      "metadata": {
        "colab": {
          "base_uri": "https://localhost:8080/"
        },
        "id": "L78RwCb5ifLd",
        "outputId": "80c6ebcf-4066-4ae9-c6de-a0a1d6dd95fa"
      },
      "execution_count": null,
      "outputs": [
        {
          "output_type": "stream",
          "name": "stdout",
          "text": [
            "{'oh_hi', 'I said_hi', 'hi', 'what'}\n"
          ]
        }
      ]
    },
    {
      "cell_type": "code",
      "source": [],
      "metadata": {
        "id": "X1TG5SB2irWl"
      },
      "execution_count": null,
      "outputs": []
    }
  ]
}