{
  "nbformat": 4,
  "nbformat_minor": 0,
  "metadata": {
    "colab": {
      "provenance": []
    },
    "kernelspec": {
      "name": "python3",
      "display_name": "Python 3"
    },
    "language_info": {
      "name": "python"
    }
  },
  "cells": [
    {
      "cell_type": "markdown",
      "source": [
        "1.  What is Python, and why is it popular ?\n",
        "\n",
        "\n",
        "*   Python is a high level programming language.\n",
        "     Popular because:\n",
        "*   Vast availability of python libararies and directories.\n",
        "*   Great community.\n",
        "*   Easy to learn and understand and code.\n",
        "*   Most commonly used in industries and DSAI filed.\n",
        "\n",
        "\n",
        "\n",
        "\n",
        "\n",
        "\n"
      ],
      "metadata": {
        "id": "Y8suPbyUwzQu"
      }
    },
    {
      "cell_type": "markdown",
      "source": [
        "2. What is an interpreter in Python ?\n",
        "\n",
        "*   In Python, an interpreter is a program that reads and executes Python\n",
        "    code line by line.\n",
        "\n",
        "\n"
      ],
      "metadata": {
        "id": "NKXxPkXWx_4_"
      }
    },
    {
      "cell_type": "markdown",
      "source": [
        " 3.What are pre-defined keywords in Python\n",
        "\n",
        "*   pre-defined keywords are reserved words with specific meanings used\n",
        "    within the language's syntax. These keywords cannot be used as identifiers like variable or function names because they have predefined functions.\n",
        "    e.g: print(),True,False...etc\n",
        "\n",
        "\n",
        "\n"
      ],
      "metadata": {
        "id": "8vCeR-oMyhgJ"
      }
    },
    {
      "cell_type": "markdown",
      "source": [
        "4. Can keywords be used as variable names ?\n",
        "\n",
        "*   No,They can not., else it will throw an error.\n",
        "\n",
        "\n"
      ],
      "metadata": {
        "id": "zBeXR6tYy7my"
      }
    },
    {
      "cell_type": "markdown",
      "source": [
        "5.What is mutability in Python ?\n",
        "*   You can make changes in the list,dic after they are created.\n",
        "*   Ability to make changes/modify is called mutability.\n",
        "\n"
      ],
      "metadata": {
        "id": "20qaUKF2zMwJ"
      }
    },
    {
      "cell_type": "markdown",
      "source": [
        "6. Why are lists mutable, but tuples are immutable ?\n",
        "\n",
        "*   List is mutable to remove,add or modify any element or list.\n",
        "*   Tuples are immutable to allocate safe,constant elements to making it f\n",
        "    faster.\n",
        "\n"
      ],
      "metadata": {
        "id": "YzoTYONdzrJi"
      }
    },
    {
      "cell_type": "markdown",
      "source": [
        "7.What is the difference between “==” and “is” operators in Python ?\n",
        "\n",
        "*   \"==\"Used for comparision of two elements.\n",
        "*   \"is\" is an identity operator to store the same value for a address.\n",
        "    It refers to the exact same object in memory address.\n",
        "    if x=1;y=1\n",
        "    then (x is y)\n",
        "\n"
      ],
      "metadata": {
        "id": "9i9Dfo950Nhr"
      }
    },
    {
      "cell_type": "markdown",
      "source": [
        "8.What are logical operators in Python ?\n",
        "\n",
        "*  “or”:any 1 true,then result true.\n",
        "*  ”and”:both true,then result true.\n",
        "*  ”not”: opposite of result.   "
      ],
      "metadata": {
        "id": "zmQnWhS20pYv"
      }
    },
    {
      "cell_type": "markdown",
      "source": [
        "9.What is type casting in Python ?\n",
        "* Converting 2 different datetypes into same data type in called\n",
        "  typecasting,using:\n",
        "\tInt(),float(),bool(),str()…etc.\n",
        " \tBut string can not be converted into int. “Rashmi” cant be converte into digits.\n",
        "\n",
        "\n",
        "\n"
      ],
      "metadata": {
        "id": "VlK_p7f61LxK"
      }
    },
    {
      "cell_type": "markdown",
      "source": [
        "10. What is the difference between implicit and explicit type casting ?\n",
        "\n",
        "*   Implicit typecasting: When python automatically converts one datatype\n",
        "    into another without user intervention.\n",
        "    e.g:\n",
        "    a=10 (#int),b=4.6 (#float),c=a+b (float)\n",
        "*   Explicit typecasting: when user has to manually convert the different\n",
        "    datatype into same data type,that is called explicit typecasting.\n",
        "    e.g.: a=\"1\";b=0;\n",
        "          c=int(a)+b;\n",
        "\n"
      ],
      "metadata": {
        "id": "iXo56drW2Aur"
      }
    },
    {
      "cell_type": "markdown",
      "source": [
        "11.What is the purpose of conditional statements in Python ?\n",
        "\n",
        "*   Conditional statements are used in python to control the flow,based on\n",
        "    situation or input,for logical decisions.\n",
        "\n"
      ],
      "metadata": {
        "id": "ZX3iSU5a3FHe"
      }
    },
    {
      "cell_type": "markdown",
      "source": [
        "12. How does the elif statement work ?\n",
        "\n",
        "*   Elif statement is used to check multiple conditions.\n"
      ],
      "metadata": {
        "id": "G6fpw_WL3RRs"
      }
    },
    {
      "cell_type": "code",
      "source": [
        "\n",
        "input(a)\n",
        "if(a<10):\n",
        "  print(\"a is less than 10.\")\n",
        "elif(a<20):\n",
        "  print(\"a is less than 20. \")\n",
        "else:\n",
        "  print(\"a is greater than 20.\")"
      ],
      "metadata": {
        "colab": {
          "base_uri": "https://localhost:8080/"
        },
        "collapsed": true,
        "id": "pgm9lCTR3hTC",
        "outputId": "238f42ff-9606-4d13-e048-a548612fcc6b"
      },
      "execution_count": 6,
      "outputs": [
        {
          "output_type": "stream",
          "name": "stdout",
          "text": [
            "453\n",
            "a is greater than 20.\n"
          ]
        }
      ]
    },
    {
      "cell_type": "markdown",
      "source": [
        "13.What is the difference between for and while loops ?\n",
        "\n",
        "*   “For” loop is used when you know the number of iteration already like\n",
        "     till n=10.\n",
        "*   “while” loop is used until a specific condition is achieved and you\n",
        "     don’t know the    number of iteration already.\n",
        "\n"
      ],
      "metadata": {
        "id": "c0kZWd0b1d2z"
      }
    },
    {
      "cell_type": "markdown",
      "source": [
        "14.Describe a scenario where a while loop is more suitable than a for loop?\n",
        "\n",
        "*   e.g: I will code until my laptop battery is 0."
      ],
      "metadata": {
        "id": "c1y2EY8d5Qfo"
      }
    },
    {
      "cell_type": "code",
      "source": [
        "i = 1\n",
        "while i < 6:\n",
        "  print(i)\n",
        "  i += 1"
      ],
      "metadata": {
        "colab": {
          "base_uri": "https://localhost:8080/"
        },
        "collapsed": true,
        "id": "zgwccaJs5jf0",
        "outputId": "3c01966b-abaf-4e36-c80e-085c1949a36b"
      },
      "execution_count": 19,
      "outputs": [
        {
          "output_type": "stream",
          "name": "stdout",
          "text": [
            "1\n",
            "2\n",
            "3\n",
            "4\n",
            "5\n"
          ]
        }
      ]
    },
    {
      "cell_type": "markdown",
      "source": [
        "#Coding problems\n",
        "1. Write a Python program to print \"Hello, World!\"?"
      ],
      "metadata": {
        "id": "5VLPgOuB4-5b"
      }
    },
    {
      "cell_type": "code",
      "source": [
        "print(\"Hello World.\")"
      ],
      "metadata": {
        "colab": {
          "base_uri": "https://localhost:8080/"
        },
        "id": "ij0II5QU9xAu",
        "outputId": "9c357eaa-0d8f-44a1-8af7-0c8e20396069"
      },
      "execution_count": 20,
      "outputs": [
        {
          "output_type": "stream",
          "name": "stdout",
          "text": [
            "Hello World.\n"
          ]
        }
      ]
    },
    {
      "cell_type": "markdown",
      "source": [
        "2.Write a Python program that displays your name and age?"
      ],
      "metadata": {
        "id": "QgOqaNWM9ftZ"
      }
    },
    {
      "cell_type": "code",
      "source": [
        "print(input(\"Enter your name:\"))\n",
        "print(input(\"Enter your age:\"))"
      ],
      "metadata": {
        "colab": {
          "base_uri": "https://localhost:8080/"
        },
        "id": "SmX2-FKX9_es",
        "outputId": "e0348e15-68aa-492d-f937-89cd55398141"
      },
      "execution_count": 24,
      "outputs": [
        {
          "output_type": "stream",
          "name": "stdout",
          "text": [
            "Enter your name:Rashmi soni\n",
            "Rashmi soni\n",
            "Enter your age:30\n",
            "30\n"
          ]
        }
      ]
    },
    {
      "cell_type": "markdown",
      "source": [
        "3. Write code to print all the pre-defined keywords in Python using the keyword library?"
      ],
      "metadata": {
        "id": "-CXYlfeXYbnj"
      }
    },
    {
      "cell_type": "code",
      "source": [
        "import keyword\n",
        "\n",
        "# Get the list of all keywords\n",
        "keywords_list = keyword.kwlist\n",
        "\n",
        "# Print the keywords\n",
        "print(\"Python Keywords:\")\n",
        "for kw in keywords_list:\n",
        "    print(kw)"
      ],
      "metadata": {
        "colab": {
          "base_uri": "https://localhost:8080/"
        },
        "id": "hKIxGLJkYcB-",
        "outputId": "631ae733-c0ab-4fe5-92cb-e39bf1fc2cdb"
      },
      "execution_count": 7,
      "outputs": [
        {
          "output_type": "stream",
          "name": "stdout",
          "text": [
            "Python Keywords:\n",
            "False\n",
            "None\n",
            "True\n",
            "and\n",
            "as\n",
            "assert\n",
            "async\n",
            "await\n",
            "break\n",
            "class\n",
            "continue\n",
            "def\n",
            "del\n",
            "elif\n",
            "else\n",
            "except\n",
            "finally\n",
            "for\n",
            "from\n",
            "global\n",
            "if\n",
            "import\n",
            "in\n",
            "is\n",
            "lambda\n",
            "nonlocal\n",
            "not\n",
            "or\n",
            "pass\n",
            "raise\n",
            "return\n",
            "try\n",
            "while\n",
            "with\n",
            "yield\n"
          ]
        }
      ]
    },
    {
      "cell_type": "markdown",
      "source": [
        "4. Write a program that checks if a given word is a Python keyword?"
      ],
      "metadata": {
        "id": "4XBKkciQYcY5"
      }
    },
    {
      "cell_type": "code",
      "source": [
        "import keyword\n",
        "\n",
        "# Get user input\n",
        "word = input(\"Enter a word to check if it's a Python keyword: \")\n",
        "\n",
        "# Check if it's a keyword\n",
        "if keyword.iskeyword(word):\n",
        "    print(f\"'{word}' is a Python keyword.\")\n",
        "else:\n",
        "    print(f\"'{word}' is NOT a Python keyword.\")"
      ],
      "metadata": {
        "colab": {
          "base_uri": "https://localhost:8080/"
        },
        "id": "oecbutA6Y-Qb",
        "outputId": "0c917003-a0ae-4dbb-92c0-39c361d0c57e"
      },
      "execution_count": 8,
      "outputs": [
        {
          "output_type": "stream",
          "name": "stdout",
          "text": [
            "Enter a word to check if it's a Python keyword: dkjf\n",
            "'dkjf' is NOT a Python keyword.\n"
          ]
        }
      ]
    },
    {
      "cell_type": "markdown",
      "source": [
        "5. Create a list and tuple in Python, and demonstrate how attempting to change an element works differently\n",
        "for each?"
      ],
      "metadata": {
        "id": "qpx4ib3PZKsA"
      }
    },
    {
      "cell_type": "code",
      "source": [
        "# Create a list and a tuple\n",
        "my_list = [10, 20, 30]\n",
        "my_tuple = (10, 20, 30)\n",
        "\n",
        "# Modify an element in the list\n",
        "print(\"Original list:\", my_list)\n",
        "my_list[1] = 99\n",
        "print(\"Modified list:\", my_list)\n",
        "\n",
        "# Try to modify an element in the tuple\n",
        "print(\"Original tuple:\", my_tuple)\n",
        "try:\n",
        "    my_tuple[1] = 99  # This will raise an error\n",
        "except TypeError as e:\n",
        "    print(\"Error:\", e)"
      ],
      "metadata": {
        "colab": {
          "base_uri": "https://localhost:8080/"
        },
        "id": "-AwAiGkPZORq",
        "outputId": "3a3fde4e-c9b9-4663-e9e4-25f24c35c586"
      },
      "execution_count": 9,
      "outputs": [
        {
          "output_type": "stream",
          "name": "stdout",
          "text": [
            "Original list: [10, 20, 30]\n",
            "Modified list: [10, 99, 30]\n",
            "Original tuple: (10, 20, 30)\n",
            "Error: 'tuple' object does not support item assignment\n"
          ]
        }
      ]
    },
    {
      "cell_type": "markdown",
      "source": [
        "6. Write a function to demonstrate the behavior of mutable and immutable arguments?"
      ],
      "metadata": {
        "id": "hzj1BqX8ZKyH"
      }
    },
    {
      "cell_type": "code",
      "source": [
        "def modify_args(immutable_arg, mutable_arg):\n",
        "    print(\"\\nInside function before modification:\")\n",
        "    print(\"Immutable arg:\", immutable_arg)\n",
        "    print(\"Mutable arg:\", mutable_arg)\n",
        "\n",
        "    # Try to modify the immutable argument (e.g. int, str, tuple)\n",
        "    immutable_arg += 10  # This creates a new object\n",
        "\n",
        "    # Modify the mutable argument (e.g. list, dict)\n",
        "    mutable_arg.append(99)\n",
        "\n",
        "    print(\"\\nInside function after modification:\")\n",
        "    print(\"Immutable arg:\", immutable_arg)\n",
        "    print(\"Mutable arg:\", mutable_arg)\n",
        "\n",
        "# Immutable type (integer)\n",
        "x = 5\n",
        "\n",
        "# Mutable type (list)\n",
        "y = [1, 2, 3]\n",
        "\n",
        "# Call the function\n",
        "modify_args(x, y)\n",
        "\n",
        "# Check the values after function call\n",
        "print(\"\\nOutside function after calling modify_args():\")\n",
        "print(\"x (immutable):\", x)  # Not changed\n",
        "print(\"y (mutable):\", y)    # Changed"
      ],
      "metadata": {
        "colab": {
          "base_uri": "https://localhost:8080/"
        },
        "id": "okA5CYMuZjSl",
        "outputId": "3eafb409-0c68-427c-89cd-98c45e680d9d"
      },
      "execution_count": 10,
      "outputs": [
        {
          "output_type": "stream",
          "name": "stdout",
          "text": [
            "\n",
            "Inside function before modification:\n",
            "Immutable arg: 5\n",
            "Mutable arg: [1, 2, 3]\n",
            "\n",
            "Inside function after modification:\n",
            "Immutable arg: 15\n",
            "Mutable arg: [1, 2, 3, 99]\n",
            "\n",
            "Outside function after calling modify_args():\n",
            "x (immutable): 5\n",
            "y (mutable): [1, 2, 3, 99]\n"
          ]
        }
      ]
    },
    {
      "cell_type": "markdown",
      "source": [
        " 7.Write a program that performs basic arithmetic operations on two user-input numbers?\n"
      ],
      "metadata": {
        "id": "5wR_ZKBW_CVP"
      }
    },
    {
      "cell_type": "code",
      "source": [
        "a=float(input(\"Enter a=\"))\n",
        "b=float(input(\"Enter b=\"))\n",
        "\n",
        "\n",
        "print(a+b)\n",
        "print(a-b)\n",
        "print(a*b)\n",
        "print(a/b)\n",
        "print(a**b)\n",
        "print(a%b)\n",
        "print(a//b)"
      ],
      "metadata": {
        "colab": {
          "base_uri": "https://localhost:8080/"
        },
        "id": "SsY8wMIh_Zgv",
        "outputId": "2e846a49-c318-4441-b6ef-a74d6ca1d19d"
      },
      "execution_count": 33,
      "outputs": [
        {
          "output_type": "stream",
          "name": "stdout",
          "text": [
            "Enter a=5\n",
            "Enter b=2\n",
            "7.0\n",
            "3.0\n",
            "10.0\n",
            "2.5\n",
            "25.0\n",
            "1.0\n",
            "2.0\n"
          ]
        }
      ]
    },
    {
      "cell_type": "markdown",
      "source": [
        " 8. Write a program to demonstrate the use of logical operators?"
      ],
      "metadata": {
        "id": "ZA47vO0MyUnG"
      }
    },
    {
      "cell_type": "code",
      "source": [
        "x=5;y=10;z=15\n",
        "print(x<y and y<z)\n",
        "print(x<y or y>z)\n",
        "not(x<y)\n"
      ],
      "metadata": {
        "colab": {
          "base_uri": "https://localhost:8080/"
        },
        "id": "xQd5341SLF0y",
        "outputId": "0d299b91-db2b-48ed-8308-aa5a3efceada"
      },
      "execution_count": 39,
      "outputs": [
        {
          "output_type": "stream",
          "name": "stdout",
          "text": [
            "True\n",
            "True\n"
          ]
        },
        {
          "output_type": "execute_result",
          "data": {
            "text/plain": [
              "False"
            ]
          },
          "metadata": {},
          "execution_count": 39
        }
      ]
    },
    {
      "cell_type": "markdown",
      "source": [
        "9. Write a Python program to convert user input from string to integer, float, and boolean types?"
      ],
      "metadata": {
        "id": "AhcxuCiNPnr4"
      }
    },
    {
      "cell_type": "code",
      "source": [
        "n=str(input(\"name=\")) #str\n",
        "print(type(n))\n",
        "n=(bool(n)) #str to bool\n",
        "print(type(n))\n",
        "n=(float(n)) #bool to float\n",
        "print(type(n))\n",
        "\n",
        "\n"
      ],
      "metadata": {
        "colab": {
          "base_uri": "https://localhost:8080/"
        },
        "id": "2zsW0ycJPsmO",
        "outputId": "81776f04-72a3-4458-9ef9-63a1998c485d"
      },
      "execution_count": 64,
      "outputs": [
        {
          "output_type": "stream",
          "name": "stdout",
          "text": [
            "name=cdsf\n",
            "<class 'str'>\n",
            "<class 'bool'>\n",
            "<class 'float'>\n"
          ]
        }
      ]
    },
    {
      "cell_type": "markdown",
      "source": [
        "11. Write a program that checks if a number is positive, negative, or zero.\n",
        "\n",
        "---\n",
        "\n"
      ],
      "metadata": {
        "id": "yR0NAEL7UsP0"
      }
    },
    {
      "cell_type": "code",
      "source": [
        "a=int(input(\"a=\"))\n",
        "if(a>0):\n",
        "  print(\"Number is positive.\")\n",
        "elif(a==0):\n",
        "  print(\"Number is zero.\")\n",
        "else:\n",
        "  print(\"Number is negative.\")"
      ],
      "metadata": {
        "colab": {
          "base_uri": "https://localhost:8080/"
        },
        "id": "O-SjFFNvUunZ",
        "outputId": "69a41b5b-f456-4162-a848-572ee33de9f0"
      },
      "execution_count": 74,
      "outputs": [
        {
          "output_type": "stream",
          "name": "stdout",
          "text": [
            "a=0\n",
            "Number is zero.\n"
          ]
        }
      ]
    },
    {
      "cell_type": "markdown",
      "source": [
        " 12. Write a for loop to print numbers from 1 to 10?"
      ],
      "metadata": {
        "id": "f7-W5lCtXCWj"
      }
    },
    {
      "cell_type": "code",
      "source": [
        "for i in range(1, 11):\n",
        "    print(i)"
      ],
      "metadata": {
        "colab": {
          "base_uri": "https://localhost:8080/"
        },
        "id": "lMK8GVmdXI1f",
        "outputId": "70113ffc-c32f-4cfc-ab70-4970e71fddce"
      },
      "execution_count": 81,
      "outputs": [
        {
          "output_type": "stream",
          "name": "stdout",
          "text": [
            "1\n",
            "2\n",
            "3\n",
            "4\n",
            "5\n",
            "6\n",
            "7\n",
            "8\n",
            "9\n",
            "10\n"
          ]
        }
      ]
    },
    {
      "cell_type": "markdown",
      "source": [
        "13. Write a Python program to find the sum of all even numbers between 1 and 50?"
      ],
      "metadata": {
        "id": "Wk21BrYYZ_9b"
      }
    },
    {
      "cell_type": "code",
      "source": [
        "\n",
        "total = 0\n",
        "\n",
        "for i in range(1, 51):\n",
        "    if i % 2 == 0:\n",
        "        total += i\n",
        "\n",
        "print(\"Sum of even numbers from 1 to 50 is:\", total)\n"
      ],
      "metadata": {
        "colab": {
          "base_uri": "https://localhost:8080/"
        },
        "id": "KnmUjav_XVbq",
        "outputId": "75a76d0c-6e16-424a-a505-2f0e8fe0b0e9"
      },
      "execution_count": 3,
      "outputs": [
        {
          "output_type": "stream",
          "name": "stdout",
          "text": [
            "Sum of even numbers from 1 to 50 is: 650\n"
          ]
        }
      ]
    },
    {
      "cell_type": "markdown",
      "source": [
        "14. Write a program to reverse a string using a while loop?"
      ],
      "metadata": {
        "id": "T6AbvoglXgjH"
      }
    },
    {
      "cell_type": "code",
      "source": [
        "# Input string\n",
        "text = \"Hello, world!\"\n",
        "\n",
        "# Initialize variables\n",
        "reversed_text = \"\"\n",
        "index = len(text) - 1\n",
        "\n",
        "# While loop to reverse the string\n",
        "while index >= 0:\n",
        "    reversed_text += text[index]\n",
        "    index -= 1\n",
        "\n",
        "print(\"Original string:\", text)\n",
        "print(\"Reversed string:\", reversed_text)"
      ],
      "metadata": {
        "colab": {
          "base_uri": "https://localhost:8080/"
        },
        "id": "YUfvGzlHXiul",
        "outputId": "89234662-a20c-4ca3-96d0-07fab5f1dcd7"
      },
      "execution_count": 4,
      "outputs": [
        {
          "output_type": "stream",
          "name": "stdout",
          "text": [
            "Original string: Hello, world!\n",
            "Reversed string: !dlrow ,olleH\n"
          ]
        }
      ]
    },
    {
      "cell_type": "markdown",
      "source": [
        "15. Write a Python program to calculate the factorial of a number provided by the user using a while loop?"
      ],
      "metadata": {
        "id": "pEWF6aG9X7vG"
      }
    },
    {
      "cell_type": "code",
      "source": [
        "# Get input from user\n",
        "num = int(input(\"Enter a non-negative integer: \"))\n",
        "\n",
        "# Initialize factorial result and counter\n",
        "factorial = 1\n",
        "i = 1\n",
        "\n",
        "# Special case for negative input\n",
        "if num < 0:\n",
        "    print(\"Factorial is not defined for negative numbers.\")\n",
        "else:\n",
        "    # Calculate factorial using while loop\n",
        "    while i <= num:\n",
        "        factorial *= i\n",
        "        i += 1\n",
        "\n",
        "    print(f\"The factorial of {num} is: {factorial}\")"
      ],
      "metadata": {
        "colab": {
          "base_uri": "https://localhost:8080/"
        },
        "id": "DpJIBu4ZYAOM",
        "outputId": "0b9d321b-04b8-442c-80b3-045662774fe3"
      },
      "execution_count": 6,
      "outputs": [
        {
          "output_type": "stream",
          "name": "stdout",
          "text": [
            "Enter a non-negative integer: 4\n",
            "The factorial of 4 is: 24\n"
          ]
        }
      ]
    },
    {
      "cell_type": "code",
      "source": [],
      "metadata": {
        "id": "xX7-5K8oYKWJ"
      },
      "execution_count": null,
      "outputs": []
    }
  ]
}