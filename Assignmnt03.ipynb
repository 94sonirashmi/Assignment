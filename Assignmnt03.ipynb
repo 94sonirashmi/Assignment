{
  "nbformat": 4,
  "nbformat_minor": 0,
  "metadata": {
    "colab": {
      "provenance": []
    },
    "kernelspec": {
      "name": "python3",
      "display_name": "Python 3"
    },
    "language_info": {
      "name": "python"
    }
  },
  "cells": [
    {
      "cell_type": "markdown",
      "source": [
        "1. What is the difference between a function and a method in Python?"
      ],
      "metadata": {
        "id": "-DN84sISEfwa"
      }
    },
    {
      "cell_type": "markdown",
      "source": [
        "A function is defined using def or lambda at the top level or inside another function.\n",
        "\n",
        "It is not bound to any object.\n",
        "\n",
        "It can be called independently.\n",
        "example:"
      ],
      "metadata": {
        "id": "FwXBzP2aEfsJ"
      }
    },
    {
      "cell_type": "code",
      "source": [
        "def add(a,b):\n",
        "      return a+b\n"
      ],
      "metadata": {
        "id": "lt2WVp5OFgX8"
      },
      "execution_count": null,
      "outputs": []
    },
    {
      "cell_type": "code",
      "source": [
        "add(1,2)"
      ],
      "metadata": {
        "colab": {
          "base_uri": "https://localhost:8080/"
        },
        "id": "_JfxI9V-FkvG",
        "outputId": "ae261b9d-9c23-4610-9d14-979715008d33"
      },
      "execution_count": null,
      "outputs": [
        {
          "output_type": "execute_result",
          "data": {
            "text/plain": [
              "3"
            ]
          },
          "metadata": {},
          "execution_count": 103
        }
      ]
    },
    {
      "cell_type": "markdown",
      "source": [
        "A method is a function that is associated with an object (typically defined in a class).\n",
        "\n",
        "It is called on an object, and it automatically receives the object as its first argument (self).\n",
        "\n",
        "Example:"
      ],
      "metadata": {
        "id": "cAvmnwACGIxd"
      }
    },
    {
      "cell_type": "code",
      "source": [
        "class Greeter:\n",
        "    def greet(self, name):\n",
        "        return f\"Hello, {name}!\"\n",
        "\n",
        "g = Greeter()\n",
        "print(g.greet(\"Bob\"))"
      ],
      "metadata": {
        "colab": {
          "base_uri": "https://localhost:8080/"
        },
        "id": "UeFYK-F9Gnew",
        "outputId": "6f35800d-5d39-49c3-b601-2d2d26b4e720"
      },
      "execution_count": null,
      "outputs": [
        {
          "output_type": "stream",
          "name": "stdout",
          "text": [
            "Hello, Bob!\n"
          ]
        }
      ]
    },
    {
      "cell_type": "markdown",
      "source": [
        "2. Explain the concept of function arguments and parameters in Python?"
      ],
      "metadata": {
        "id": "ZfIJ5zqBIILi"
      }
    },
    {
      "cell_type": "markdown",
      "source": [
        "Parameters = variables in the function definition.\n",
        "\n",
        "Arguments = values supplied during the function call.\n",
        "\n",
        "Python supports several types of parameters and corresponding arguments:\n",
        "\n",
        "Type\tExample in Definition\tExample in Call\n",
        "Positional\tdef func(a, b)\tfunc(1, 2)\n",
        "Keyword\tdef func(a, b)\tfunc(a=1, b=2)\n",
        "Default\tdef func(a, b=10)\tfunc(5) → a=5, b=10\n",
        "Variable-length (*args)\tdef func(*args)\tfunc(1, 2, 3)\n",
        "Keyword Variable-length (**kwargs)\tdef func(**kwargs)\tfunc(a=1, b=2)"
      ],
      "metadata": {
        "id": "e0KtguYEEfoE"
      }
    },
    {
      "cell_type": "markdown",
      "source": [
        "3. What are the different ways to define and call a function in Python?"
      ],
      "metadata": {
        "id": "T-6_FScCEfje"
      }
    },
    {
      "cell_type": "markdown",
      "source": [
        "Ways to Define a Function:\n",
        "1.\tStandard Function using def:\n",
        "def greet(name):\n",
        "    return f\"Hello, {name}\"\n",
        "2.\t Anonymous Function using lambda\n",
        "square = lambda x: x * x\n",
        "3.\tWith Default Arguments:\n",
        "def greet(name=\"World\"):\n",
        "    return f\"Hello, {name}!\"\n",
        "4.\tRecursively Calling a Function\n",
        "def factorial(n):\n",
        "    return 1 if n == 0 else n * factorial(n - 1)\n"
      ],
      "metadata": {
        "id": "9jvIoO_IEffg"
      }
    },
    {
      "cell_type": "markdown",
      "source": [
        "4. What is the purpose of the `return` statement in a Python function?"
      ],
      "metadata": {
        "id": "8ciP7_wfEfby"
      }
    },
    {
      "cell_type": "markdown",
      "source": [
        "      It ends the function execution:-\n",
        "•\tWhen Python encounters a return statement, it immediately exits the function, skipping any code that comes after it.\n",
        "def example():\n",
        "    return \"Done\"\n",
        "   It sends a value back to the caller:-\n",
        "•\tThe value specified after return is sent back to wherever the function was called. This is how functions output data.\n",
        "    print(\"This will not be executed\")\n"
      ],
      "metadata": {
        "id": "JUThDZxeEfW9"
      }
    },
    {
      "cell_type": "markdown",
      "source": [
        "5.What are iterators in Python and how do they differ from iterables?"
      ],
      "metadata": {
        "id": "nNnkThVqEfTH"
      }
    },
    {
      "cell_type": "markdown",
      "source": [],
      "metadata": {
        "id": "i3QGbeIyEfPd"
      }
    },
    {
      "cell_type": "markdown",
      "source": [
        "Iterables\n",
        "o\tAn iterable is any Python object that can return its members one at a time, typically using a for loop.\n",
        "o\tExamples of Iterables: Lists, tuples, strings, dictionaries, sets\n",
        "o\tAny object that implements the __iter__() method\n",
        "o\tExample: my_list = [1, 2, 3]  # This is an iterable.\n",
        "\n",
        "Iterators\n",
        "An iterator is an object that produces the next value in a sequence when you call next() on it.\n",
        "Characteristics:\n",
        "•\tImplements both __iter__() and __next__() methods\n",
        "•\tMaintains internal state\n",
        "Example: my_list = [1, 2, 3]\n",
        "                 my_iter = iter(my_list)  # Now this is an iterator\n",
        "\n",
        "print(next(my_iter))  # Output: 1\n",
        "print(next(my_iter))  # Output: 2\n"
      ],
      "metadata": {
        "id": "NHrJedCcEfGM"
      }
    },
    {
      "cell_type": "markdown",
      "source": [
        "6.Explain the concept of generators in Python and how they are defined?"
      ],
      "metadata": {
        "id": "uP5ssHAzEe_-"
      }
    },
    {
      "cell_type": "markdown",
      "source": [
        "A generator:\n",
        "•\tProduces values lazily (on demand)\n",
        "•\tUses yield instead of return\n",
        "•\tAutomatically implements the iterator protocol (__iter__() and __next__())\n",
        "How to Define a Generator:\n",
        "1. Using a Generator Function\n",
        "def countdown(n):\n",
        "    while n > 0:\n",
        "        yield n\n",
        "        n -= 1\n",
        "this does not run when called. It returns a generator object:\n",
        "gen = countdown(3)\n",
        "print(next(gen))  # Output: 3\n",
        "print(next(gen))  # Output: 2\n",
        "2. Using a Generator Expression\n",
        "Like list comprehensions, but with parentheses:\n",
        "squares = (x * x for x in range(5))\n",
        "print(next(squares))  # Output: 0\n",
        "•\tMemory Efficient: They don’t store the entire sequence in memory\n",
        "•\tConvenient for large data streams or infinite sequences\n",
        "•\tPause and Resume: Execution state is saved between yields\n"
      ],
      "metadata": {
        "id": "VFTs8zItEe7O"
      }
    },
    {
      "cell_type": "markdown",
      "source": [
        "7. What are the advantages of using generators over regular functions?"
      ],
      "metadata": {
        "id": "SsopoeGZEe3M"
      }
    },
    {
      "cell_type": "markdown",
      "source": [
        "Generators offer several key advantages over regular functions, especially when dealing with large data or streaming scenarios.\n",
        "Memory efficiency: Generators produce items one at a time, so they don’t store the entire sequence in memory. In contrast, regular functions that return lists or other collections load everything into memory at once.\n",
        "# Generator\n",
        "def gen_nums():\n",
        "    for i in range(1_000_000):\n",
        "        yield i\n",
        "\n",
        "# Regular Function\n",
        "def list_nums():\n",
        "    return [i for i in range(1_000_000)]\n",
        "Lazy Evaluation\n",
        "Generators compute values on demand, so work is done only when needed. This can significantly improve performance for large datasets.\n",
        "gen = (x*x for x in range(1000000))  # Values aren't computed until requested\n",
        "Infinite Sequences\n",
        "Generators can represent infinite or very large sequences without causing memory issues.\n",
        "def infinite_numbers():\n",
        "    n = 0\n",
        "    while True:\n",
        "        yield n\n",
        "        n +=\n",
        "Cleaner Code for Iteration\n",
        "Generators simplify code that would otherwise require maintaining state manually.\n",
        "# Without generator\n",
        "def read_lines(file):\n",
        "    with open(file) as f:\n",
        "        return f.readlines()\n",
        "# With generator\n",
        "def read_lines(file):\n",
        "    with open(file) as f:\n",
        "        for line in f:\n",
        "            yield line\n",
        "Improved Performance in Pipelines\n",
        "Generators are great for data pipelines, where each stage can yield data to the next without materializing intermediate results.\n"
      ],
      "metadata": {
        "id": "A01GtZyLEevN"
      }
    },
    {
      "cell_type": "markdown",
      "source": [
        "8. What is a lambda function in Python and when is it typically used?"
      ],
      "metadata": {
        "id": "057Ru07wEerQ"
      }
    },
    {
      "cell_type": "markdown",
      "source": [
        "A lambda function in Python is a small, anonymous function defined using the lambda keyword instead of def.\n",
        "Syntax:\n",
        "lambda arguments: expression\n",
        "square = lambda x: x * x\n",
        "print(square(5))  # Output: 25\n",
        "•\tAnonymous: Doesn't require a name (though it can be assigned one)\n",
        "•\tSingle-expression only: Cannot contain multiple statements\n",
        "•\tReturns value automatically: No need to use return\n"
      ],
      "metadata": {
        "id": "tVmNzRmVEenZ"
      }
    },
    {
      "cell_type": "markdown",
      "source": [
        "9. Explain the purpose and usage of the `map()` function in Python?"
      ],
      "metadata": {
        "id": "fqchQY8HEejt"
      }
    },
    {
      "cell_type": "markdown",
      "source": [
        "The map() function in Python is used to apply a function to every item in an iterable, such as a list or tuple, and return a map object (which is an iterator)\n",
        "Syntax:\n",
        "map(function, iterable)\n",
        "\n",
        "example:\n",
        "def square(x):\n",
        "    return x * x\n",
        "\n",
        "nums = [1, 2, 3, 4]\n",
        "result = map(square, nums)\n",
        "print(list(result))  \n",
        "\n",
        "o/p: [1, 4, 9, 16]\n"
      ],
      "metadata": {
        "id": "XeSysm7lEegH"
      }
    },
    {
      "cell_type": "markdown",
      "source": [
        "10. What is the difference between `map()`, `reduce()`, and `filter()` functions in Python?"
      ],
      "metadata": {
        "id": "i-fDiGL8EecN"
      }
    },
    {
      "cell_type": "markdown",
      "source": [
        "The functions map(), filter(), and reduce() in Python are built-in (or from functools in the case of reduce) and are used for functional-style processing of iterables. While they all operate over iterables, they serve different purposes:\n",
        "\n",
        " map(function, iterable)\n",
        "Purpose: Applies a function to each element and returns the transformed iterable.\n",
        "Example:\n",
        "nums = [1, 2, 3]\n",
        "squared = list(map(lambda x: x * x, nums))  \n",
        "o/p: [1, 4, 9]\n",
        "\n",
        "filter(function, iterable)\n",
        "Purpose: Applies a function that returns True or False to filter items in the iterable.\n",
        "nums = [1, 2, 3, 4]\n",
        "even = list(filter(lambda x: x % 2 == 0, nums))  \n",
        "o/p: [2, 4]\n",
        "\n",
        "reduce(function, iterable)\n",
        "Purpose: Applies a function cumulatively to the items of the iterable, reducing it to a single value.\n",
        "\n",
        "from functools import reduce\n",
        "nums = [1, 2, 3, 4]\n",
        "product = reduce(lambda x, y: x * y, nums)  \n",
        "o/p: 24\n",
        "Feature\tmap()\tfilter()\treduce()\n",
        "Function type\tTransformer (x -> y)\tPredicate (x -> bool)\tCombiner ((x, y) -> z)\n",
        "Returns\tTransformed iterable\tFiltered iterable\tSingle cumulative value\n",
        "Output type\tmap object (iterator)\tfilter object (iterator)\tFinal result (not iterator)\n",
        "Use case\tApply function to each item\tKeep items based on a test\tCombine all into one result\n",
        "from functools import reduce\n",
        "\n",
        "example comparing all  three:\n",
        "nums = [1, 2, 3, 4, 5]\n",
        "\n",
        "# Map: Square each number\n",
        "squares = list(map(lambda x: x * x, nums))  \n",
        "o/p:[1, 4, 9, 16, 25]\n",
        "\n",
        "# Filter: Keep even numbers\n",
        "evens = list(filter(lambda x: x % 2 == 0, nums))  \n",
        "o/p:[2, 4]\n",
        "# Reduce: Multiply all numbers together\n",
        "product = reduce(lambda x, y: x * y, nums)  \n",
        "o/p:120\n",
        "\n"
      ],
      "metadata": {
        "id": "_2-IyFy3EeYT"
      }
    },
    {
      "cell_type": "markdown",
      "source": [
        "11. Using pen & Paper write the internal mechanism for sum operation using  reduce function on this given list:[47,11,42,13]?"
      ],
      "metadata": {
        "id": "4muFNbyKEdur"
      }
    },
    {
      "cell_type": "markdown",
      "source": [
        "from functools import reduce\n",
        "reduce(lambda x, y: x + y, [47, 11, 42, 13])\n",
        "\n",
        "o/p: 113\n"
      ],
      "metadata": {
        "id": "VsqonhVMe8_n"
      }
    },
    {
      "cell_type": "markdown",
      "source": [
        "1. Write a Python function that takes a list of numbers as input and returns the sum of all even numbers in\n",
        "the list?"
      ],
      "metadata": {
        "id": "LXYrVtKdvqAC"
      }
    },
    {
      "cell_type": "code",
      "source": [
        "def Sum_even(d):\n",
        "\n",
        "  s=0\n",
        "  for i in d:\n",
        "    if i%2==0:\n",
        "      s=s+i\n",
        "  return s\n",
        "  Sum_even([1,2,3,4,5,6])"
      ],
      "metadata": {
        "id": "p4YEYbFURmp_"
      },
      "execution_count": null,
      "outputs": []
    },
    {
      "cell_type": "code",
      "source": [
        "Sum_even([1,2,3,4,5,6])\n",
        "\n"
      ],
      "metadata": {
        "colab": {
          "base_uri": "https://localhost:8080/"
        },
        "id": "iB-xdQe4Svta",
        "outputId": "edb3b630-3451-4d70-f88d-6874840385d4"
      },
      "execution_count": null,
      "outputs": [
        {
          "output_type": "execute_result",
          "data": {
            "text/plain": [
              "12"
            ]
          },
          "metadata": {},
          "execution_count": 44
        }
      ]
    },
    {
      "cell_type": "markdown",
      "source": [
        "2. Create a Python function that accepts a string and returns the reverse of that string?"
      ],
      "metadata": {
        "id": "8b74sx0Qvkxm"
      }
    },
    {
      "cell_type": "code",
      "source": [
        "def reverse_str(name):\n",
        " return name[::-1]\n",
        "\n",
        "\n"
      ],
      "metadata": {
        "id": "cmdHJwwXkikz"
      },
      "execution_count": null,
      "outputs": []
    },
    {
      "cell_type": "code",
      "source": [
        "reverse_str(\"Rashmi\")"
      ],
      "metadata": {
        "colab": {
          "base_uri": "https://localhost:8080/",
          "height": 35
        },
        "id": "17uILhkVpP0q",
        "outputId": "61c47897-736c-4e9b-9290-6b92ad854daa"
      },
      "execution_count": null,
      "outputs": [
        {
          "output_type": "execute_result",
          "data": {
            "text/plain": [
              "'imhsaR'"
            ],
            "application/vnd.google.colaboratory.intrinsic+json": {
              "type": "string"
            }
          },
          "metadata": {},
          "execution_count": 72
        }
      ]
    },
    {
      "cell_type": "markdown",
      "source": [
        "3. Implement a Python function that takes a list of integers and returns a new list containing the squares of\n",
        "each number?"
      ],
      "metadata": {
        "id": "BXTOGePDvh_R"
      }
    },
    {
      "cell_type": "code",
      "source": [
        "def square_numbers(numbers):\n",
        "    return [x**2 for x in numbers]"
      ],
      "metadata": {
        "id": "qDp1zkw_ZPc7"
      },
      "execution_count": null,
      "outputs": []
    },
    {
      "cell_type": "code",
      "source": [
        "nums = [1, 2, 3, 4, 5]\n",
        "squared = square_numbers(nums)\n",
        "print(squared)"
      ],
      "metadata": {
        "colab": {
          "base_uri": "https://localhost:8080/"
        },
        "id": "gSmq7oryi-sZ",
        "outputId": "4dd0a9c9-f96d-49f6-eb4f-d3b18e5a8fc5"
      },
      "execution_count": null,
      "outputs": [
        {
          "output_type": "stream",
          "name": "stdout",
          "text": [
            "[1, 4, 9, 16, 25]\n"
          ]
        }
      ]
    },
    {
      "cell_type": "markdown",
      "source": [
        "4. Write a Python function that checks if a given number is prime or not from 1 to 200?"
      ],
      "metadata": {
        "id": "MHKC1qPDpzsw"
      }
    },
    {
      "cell_type": "code",
      "source": [
        "def check_prime(a,b):\n",
        "  for i in range(a,b):\n",
        "    if (i==1 or i==2 or i==3 or i==5 or i==7):\n",
        "      print(i)\n",
        "    elif (i%i==0 and i%2!=0 and i%3!=0 and i%5!=0 and i%7!=0):\n",
        "      print(i)\n",
        "\n"
      ],
      "metadata": {
        "id": "7rSmJBqfn1yj"
      },
      "execution_count": null,
      "outputs": []
    },
    {
      "cell_type": "code",
      "source": [
        "check_prime(1,201)"
      ],
      "metadata": {
        "colab": {
          "base_uri": "https://localhost:8080/"
        },
        "id": "AN5I3A1Zn6vh",
        "outputId": "299bfba0-e7fb-4ebc-81de-16378531f3ed"
      },
      "execution_count": null,
      "outputs": [
        {
          "output_type": "stream",
          "name": "stdout",
          "text": [
            "1\n",
            "2\n",
            "3\n",
            "5\n",
            "7\n",
            "11\n",
            "13\n",
            "17\n",
            "19\n",
            "23\n",
            "29\n",
            "31\n",
            "37\n",
            "41\n",
            "43\n",
            "47\n",
            "53\n",
            "59\n",
            "61\n",
            "67\n",
            "71\n",
            "73\n",
            "79\n",
            "83\n",
            "89\n",
            "97\n",
            "101\n",
            "103\n",
            "107\n",
            "109\n",
            "113\n",
            "121\n",
            "127\n",
            "131\n",
            "137\n",
            "139\n",
            "143\n",
            "149\n",
            "151\n",
            "157\n",
            "163\n",
            "167\n",
            "169\n",
            "173\n",
            "179\n",
            "181\n",
            "187\n",
            "191\n",
            "193\n",
            "197\n",
            "199\n"
          ]
        }
      ]
    },
    {
      "cell_type": "markdown",
      "source": [
        "5. Create an iterator class in Python that generates the Fibonacci sequence up to a specified number of\n",
        "terms?"
      ],
      "metadata": {
        "id": "9uj9010PurYg"
      }
    },
    {
      "cell_type": "code",
      "source": [
        "class FibonacciIterator:\n",
        "    def __init__(self, num_terms):\n",
        "        self.num_terms = num_terms\n",
        "        self.count = 0\n",
        "        self.a = 0\n",
        "        self.b = 1\n",
        "\n",
        "    def __iter__(self):\n",
        "        return self\n",
        "\n",
        "    def __next__(self):\n",
        "        if self.count >= self.num_terms:\n",
        "            raise StopIteration\n",
        "        if self.count == 0:\n",
        "            self.count += 1\n",
        "            return self.a\n",
        "        elif self.count == 1:\n",
        "            self.count += 1\n",
        "            return self.b\n",
        "        else:\n",
        "            self.a, self.b = self.b, self.a + self.b\n",
        "            self.count += 1\n",
        "            return self.b"
      ],
      "metadata": {
        "id": "4dtmtvKsprws"
      },
      "execution_count": null,
      "outputs": []
    },
    {
      "cell_type": "code",
      "source": [
        "fib = FibonacciIterator(10)  # Generate first 10 terms\n",
        "for num in fib:\n",
        "    print(num)"
      ],
      "metadata": {
        "colab": {
          "base_uri": "https://localhost:8080/"
        },
        "id": "zt84oF_XYy_C",
        "outputId": "6e4aade1-46b2-4746-c5d4-b4747d9d05b6"
      },
      "execution_count": null,
      "outputs": [
        {
          "output_type": "stream",
          "name": "stdout",
          "text": [
            "0\n",
            "1\n",
            "1\n",
            "2\n",
            "3\n",
            "5\n",
            "8\n",
            "13\n",
            "21\n",
            "34\n"
          ]
        }
      ]
    },
    {
      "cell_type": "markdown",
      "source": [
        "6. Write a generator function in Python that yields the powers of 2 up to a given exponent?"
      ],
      "metadata": {
        "id": "kw7e65Kh6Ca0"
      }
    },
    {
      "cell_type": "code",
      "source": [
        "def powers_of_two(max_exponent):\n",
        "    for exponent in range(max_exponent + 1):\n",
        "        yield 2 ** exponent"
      ],
      "metadata": {
        "id": "h3XxfuF66HZF"
      },
      "execution_count": null,
      "outputs": []
    },
    {
      "cell_type": "code",
      "source": [
        "for power in powers_of_two(5):\n",
        "    print(power)"
      ],
      "metadata": {
        "colab": {
          "base_uri": "https://localhost:8080/"
        },
        "id": "Ycc2rE-R6HTD",
        "outputId": "a726170b-32bc-461d-b389-e4cf177ca587"
      },
      "execution_count": null,
      "outputs": [
        {
          "output_type": "stream",
          "name": "stdout",
          "text": [
            "1\n",
            "2\n",
            "4\n",
            "8\n",
            "16\n",
            "32\n"
          ]
        }
      ]
    },
    {
      "cell_type": "markdown",
      "source": [
        "7. Implement a generator function that reads a file line by line and yields each line as a string?"
      ],
      "metadata": {
        "id": "-RGk2gDG6cOJ"
      }
    },
    {
      "cell_type": "code",
      "source": [
        "def read_file_line_by_line(file_path):\n",
        "    with open(file_path, 'r') as file:\n",
        "        for line in file:\n",
        "            yield line.rstrip('\\n')  # Optionally strip the newline character"
      ],
      "metadata": {
        "id": "uP1xQuq96pPt"
      },
      "execution_count": null,
      "outputs": []
    },
    {
      "cell_type": "code",
      "source": [
        "for line in read_file_line_by_line('example.txt'):\n",
        "    print(line)"
      ],
      "metadata": {
        "colab": {
          "base_uri": "https://localhost:8080/",
          "height": 263
        },
        "id": "k5jfXGvB6HPL",
        "outputId": "9ac80233-5ccc-4b9a-d1ad-39098904ac3a"
      },
      "execution_count": null,
      "outputs": [
        {
          "output_type": "error",
          "ename": "FileNotFoundError",
          "evalue": "[Errno 2] No such file or directory: 'example.txt'",
          "traceback": [
            "\u001b[0;31m---------------------------------------------------------------------------\u001b[0m",
            "\u001b[0;31mFileNotFoundError\u001b[0m                         Traceback (most recent call last)",
            "\u001b[0;32m<ipython-input-92-0fe14d074b1f>\u001b[0m in \u001b[0;36m<cell line: 0>\u001b[0;34m()\u001b[0m\n\u001b[0;32m----> 1\u001b[0;31m \u001b[0;32mfor\u001b[0m \u001b[0mline\u001b[0m \u001b[0;32min\u001b[0m \u001b[0mread_file_line_by_line\u001b[0m\u001b[0;34m(\u001b[0m\u001b[0;34m'example.txt'\u001b[0m\u001b[0;34m)\u001b[0m\u001b[0;34m:\u001b[0m\u001b[0;34m\u001b[0m\u001b[0;34m\u001b[0m\u001b[0m\n\u001b[0m\u001b[1;32m      2\u001b[0m     \u001b[0mprint\u001b[0m\u001b[0;34m(\u001b[0m\u001b[0mline\u001b[0m\u001b[0;34m)\u001b[0m\u001b[0;34m\u001b[0m\u001b[0;34m\u001b[0m\u001b[0m\n",
            "\u001b[0;32m<ipython-input-90-e9e16442efd1>\u001b[0m in \u001b[0;36mread_file_line_by_line\u001b[0;34m(file_path)\u001b[0m\n\u001b[1;32m      1\u001b[0m \u001b[0;32mdef\u001b[0m \u001b[0mread_file_line_by_line\u001b[0m\u001b[0;34m(\u001b[0m\u001b[0mfile_path\u001b[0m\u001b[0;34m)\u001b[0m\u001b[0;34m:\u001b[0m\u001b[0;34m\u001b[0m\u001b[0;34m\u001b[0m\u001b[0m\n\u001b[0;32m----> 2\u001b[0;31m     \u001b[0;32mwith\u001b[0m \u001b[0mopen\u001b[0m\u001b[0;34m(\u001b[0m\u001b[0mfile_path\u001b[0m\u001b[0;34m,\u001b[0m \u001b[0;34m'r'\u001b[0m\u001b[0;34m)\u001b[0m \u001b[0;32mas\u001b[0m \u001b[0mfile\u001b[0m\u001b[0;34m:\u001b[0m\u001b[0;34m\u001b[0m\u001b[0;34m\u001b[0m\u001b[0m\n\u001b[0m\u001b[1;32m      3\u001b[0m         \u001b[0;32mfor\u001b[0m \u001b[0mline\u001b[0m \u001b[0;32min\u001b[0m \u001b[0mfile\u001b[0m\u001b[0;34m:\u001b[0m\u001b[0;34m\u001b[0m\u001b[0;34m\u001b[0m\u001b[0m\n\u001b[1;32m      4\u001b[0m             \u001b[0;32myield\u001b[0m \u001b[0mline\u001b[0m\u001b[0;34m.\u001b[0m\u001b[0mrstrip\u001b[0m\u001b[0;34m(\u001b[0m\u001b[0;34m'\\n'\u001b[0m\u001b[0;34m)\u001b[0m  \u001b[0;31m# Optionally strip the newline character\u001b[0m\u001b[0;34m\u001b[0m\u001b[0;34m\u001b[0m\u001b[0m\n",
            "\u001b[0;31mFileNotFoundError\u001b[0m: [Errno 2] No such file or directory: 'example.txt'"
          ]
        }
      ]
    },
    {
      "cell_type": "markdown",
      "source": [
        "8. Use a lambda function in Python to sort a list of tuples based on the second element of each tuple?"
      ],
      "metadata": {
        "id": "6D2Ucva28AJ1"
      }
    },
    {
      "cell_type": "code",
      "source": [
        "# Sample list of tuples\n",
        "data = [(1, 3), (4, 1), (2, 5), (3, 2)]\n",
        "\n",
        "# Sort by the second element of each tuple\n",
        "sorted_data = sorted(data, key=lambda x: x[1])\n",
        "\n",
        "print(sorted_data)"
      ],
      "metadata": {
        "colab": {
          "base_uri": "https://localhost:8080/"
        },
        "id": "_-ctyrX26HKr",
        "outputId": "9cd83de2-5204-4756-ffb5-d8d9213286fe"
      },
      "execution_count": null,
      "outputs": [
        {
          "output_type": "stream",
          "name": "stdout",
          "text": [
            "[(4, 1), (3, 2), (1, 3), (2, 5)]\n"
          ]
        }
      ]
    },
    {
      "cell_type": "markdown",
      "source": [
        "9. Write a Python program that uses `map()` to convert a list of temperatures from Celsius to Fahrenheit?"
      ],
      "metadata": {
        "id": "uKJzFG5f8ZR1"
      }
    },
    {
      "cell_type": "code",
      "source": [
        "# List of temperatures in Celsius\n",
        "celsius = [0, 20, 37, 100]\n",
        "\n",
        "# Conversion formula: F = C * 9/5 + 32\n",
        "fahrenheit = list(map(lambda c: c * 9/5 + 32, celsius))\n",
        "\n",
        "print(\"Celsius:\", celsius)\n",
        "print(\"Fahrenheit:\", fahrenheit)"
      ],
      "metadata": {
        "id": "VH-Ryub9nP38",
        "colab": {
          "base_uri": "https://localhost:8080/"
        },
        "outputId": "025ce2e7-5f65-4345-dd91-8df2f2953442"
      },
      "execution_count": null,
      "outputs": [
        {
          "output_type": "stream",
          "name": "stdout",
          "text": [
            "Celsius: [0, 20, 37, 100]\n",
            "Fahrenheit: [32.0, 68.0, 98.6, 212.0]\n"
          ]
        }
      ]
    },
    {
      "cell_type": "markdown",
      "source": [
        "10. Create a Python program that uses `filter()` to remove all the vowels from a given string?"
      ],
      "metadata": {
        "id": "TrYVL8w481hY"
      }
    },
    {
      "cell_type": "code",
      "source": [
        "# Example usage\n",
        "input_string = \"This is a sample string with vowels.\"\n",
        "result = (input_string)\n",
        "\n",
        "print(\"Original:\", input_string)\n",
        "print(\"Without vowels:\", result)"
      ],
      "metadata": {
        "colab": {
          "base_uri": "https://localhost:8080/"
        },
        "id": "d00VP9zV8nwX",
        "outputId": "991da14a-02c2-4751-e335-b20afc115bb2"
      },
      "execution_count": null,
      "outputs": [
        {
          "output_type": "stream",
          "name": "stdout",
          "text": [
            "Original: This is a sample string with vowels.\n",
            "Without vowels: This is a sample string with vowels.\n"
          ]
        }
      ]
    },
    {
      "cell_type": "markdown",
      "source": [
        "11) Imagine an accounting routine used in a book shop. It works on a list with sublists, which look like this?\n",
        "Write a Python program, which returns a list with 2-tuples. Each tuple consists of the order number and the\n",
        "product of the price per item and the quantity. The product should be increased by 10,- € if the value of the\n",
        "order is smaller than 100,00 €."
      ],
      "metadata": {
        "id": "wy1BPRSC-bNy"
      }
    },
    {
      "cell_type": "code",
      "source": [
        "orders = [\n",
        "    [34587, \"Learning Python,Marks Luts\", 4, 40.95],\n",
        "    [98762, \"Programming Python,Mark Luts\", 5, 56.80],\n",
        "    [77226, \"Head First Python,Paul Berry\", 3, 32.95],\n",
        "    [88112, \"Einführung in Python3,Bernd kelin\", 3, 24.99],\n",
        "]"
      ],
      "metadata": {
        "id": "0Ps_wfiB8-RR"
      },
      "execution_count": null,
      "outputs": []
    },
    {
      "cell_type": "code",
      "source": [
        "orders = [\n",
        "    [34587, \"Learning Python\", 4, 40.95],\n",
        "    [98762, \"Programming Python\", 5, 56.80],\n",
        "    [77226, \"Head First Python\", 3, 32.95],\n",
        "    [88112, \"Einführung in Python3\", 3, 24.99]\n",
        "]\n",
        "\n",
        "result = list(map(\n",
        "    lambda order: (\n",
        "        order[0],\n",
        "        round(order[2] * order[3] + (10 if order[2] * order[3] < 100 else 0), 2)\n",
        "    ),\n",
        "    orders\n",
        "))\n",
        "\n",
        "print(result)"
      ],
      "metadata": {
        "colab": {
          "base_uri": "https://localhost:8080/"
        },
        "id": "tulg0uF4-hz4",
        "outputId": "002d282d-e2ca-498b-85da-f067a4063f87"
      },
      "execution_count": 1,
      "outputs": [
        {
          "output_type": "stream",
          "name": "stdout",
          "text": [
            "[(34587, 163.8), (98762, 284.0), (77226, 108.85), (88112, 84.97)]\n"
          ]
        }
      ]
    },
    {
      "cell_type": "code",
      "source": [],
      "metadata": {
        "id": "kbqKnk2L_qA0"
      },
      "execution_count": null,
      "outputs": []
    }
  ]
}